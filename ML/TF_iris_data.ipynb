{
 "cells": [
  {
   "cell_type": "code",
   "execution_count": 17,
   "metadata": {},
   "outputs": [],
   "source": [
    "import tensorflow as tf\n",
    "import pandas as pd\n",
    "import numpy as np\n",
    "from sklearn import datasets\n",
    "\n",
    "FEATURE_SEPAL_LENGTH = 'SepalLength'\n",
    "FEATURE_SEPAL_WIDTH = 'SepalWidth'\n",
    "FEATURE_PETAL_LENGTH = 'PetalLength'\n",
    "FEATURE_PETAL_WIDTH = 'PetalWidth'\n",
    "LABEL = 'label'"
   ]
  },
  {
   "cell_type": "code",
   "execution_count": 18,
   "metadata": {},
   "outputs": [],
   "source": [
    "# load the data set\n",
    "iris = datasets.load_iris()\n",
    "iris_data_w_target = [];\n",
    "\n",
    "# prepare data\n",
    "\n",
    "# the data comes originally with all the examples ordered, so to get a meaningful test sample, we need to shuffle it\n",
    "\n",
    "# add the target to the data to be able to shuffle and partition it later\n",
    "for i in range(len(iris.data)):\n",
    "    value = np.append(iris.data[i], iris.target[i])\n",
    "    iris_data_w_target.append(value)\n",
    "\n",
    "#print(iris_data_w_target)\n",
    "columns_names = [FEATURE_SEPAL_LENGTH, FEATURE_SEPAL_WIDTH, FEATURE_PETAL_LENGTH, FEATURE_PETAL_WIDTH, LABEL]\n",
    "\n",
    "df = pd.DataFrame(data = iris_data_w_target, columns = columns_names )\n",
    "\n",
    "# shuffle our data\n",
    "df = df.sample(frac=1).reset_index(drop=True)\n"
   ]
  },
  {
   "cell_type": "code",
   "execution_count": 19,
   "metadata": {},
   "outputs": [],
   "source": [
    "# partition of our data\n",
    "# we reserve the 20% of the total records for testing\n",
    "test_len = (len(df) * 20)//100;\n",
    "training_df = df[test_len:]\n",
    "test_df = df[:test_len]\n",
    "\n",
    "#print(test_df)"
   ]
  },
  {
   "cell_type": "code",
   "execution_count": 31,
   "metadata": {},
   "outputs": [
    {
     "name": "stdout",
     "output_type": "stream",
     "text": [
      "INFO:tensorflow:Using default config.\n",
      "WARNING:tensorflow:Using temporary folder as model directory: C:\\Users\\_domine3\\AppData\\Local\\Temp\\tmpi2at4f5r\n",
      "INFO:tensorflow:Using config: {'_cluster_spec': <tensorflow.python.training.server_lib.ClusterSpec object at 0x0000000014F820F0>, '_num_ps_replicas': 0, '_is_chief': True, '_save_checkpoints_secs': 600, '_num_worker_replicas': 1, '_task_id': 0, '_save_summary_steps': 100, '_evaluation_master': '', '_train_distribute': None, '_tf_random_seed': None, '_session_config': None, '_model_dir': 'C:\\\\Users\\\\_domine3\\\\AppData\\\\Local\\\\Temp\\\\tmpi2at4f5r', '_service': None, '_master': '', '_global_id_in_cluster': 0, '_task_type': 'worker', '_log_step_count_steps': 100, '_keep_checkpoint_every_n_hours': 10000, '_keep_checkpoint_max': 5, '_save_checkpoints_steps': None}\n",
      "INFO:tensorflow:Calling model_fn.\n",
      "INFO:tensorflow:Done calling model_fn.\n",
      "INFO:tensorflow:Create CheckpointSaverHook.\n",
      "INFO:tensorflow:Graph was finalized.\n",
      "INFO:tensorflow:Running local_init_op.\n",
      "INFO:tensorflow:Done running local_init_op.\n",
      "INFO:tensorflow:Saving checkpoints for 1 into C:\\Users\\_domine3\\AppData\\Local\\Temp\\tmpi2at4f5r\\model.ckpt.\n",
      "INFO:tensorflow:loss = 146.32745, step = 1\n",
      "INFO:tensorflow:global_step/sec: 543.478\n",
      "INFO:tensorflow:loss = 30.012009, step = 101 (0.187 sec)\n",
      "INFO:tensorflow:global_step/sec: 729.927\n",
      "INFO:tensorflow:loss = 15.369042, step = 201 (0.136 sec)\n",
      "INFO:tensorflow:global_step/sec: 775.194\n",
      "INFO:tensorflow:loss = 10.820699, step = 301 (0.130 sec)\n",
      "INFO:tensorflow:global_step/sec: 719.425\n",
      "INFO:tensorflow:loss = 13.417875, step = 401 (0.139 sec)\n",
      "INFO:tensorflow:global_step/sec: 719.425\n",
      "INFO:tensorflow:loss = 10.081392, step = 501 (0.139 sec)\n",
      "INFO:tensorflow:global_step/sec: 729.927\n",
      "INFO:tensorflow:loss = 7.979366, step = 601 (0.136 sec)\n",
      "INFO:tensorflow:global_step/sec: 763.359\n",
      "INFO:tensorflow:loss = 10.715974, step = 701 (0.133 sec)\n",
      "INFO:tensorflow:global_step/sec: 709.22\n",
      "INFO:tensorflow:loss = 9.723078, step = 801 (0.139 sec)\n",
      "INFO:tensorflow:global_step/sec: 704.226\n",
      "INFO:tensorflow:loss = 11.645809, step = 901 (0.143 sec)\n",
      "INFO:tensorflow:global_step/sec: 740.741\n",
      "INFO:tensorflow:loss = 15.186651, step = 1001 (0.135 sec)\n",
      "INFO:tensorflow:global_step/sec: 751.88\n",
      "INFO:tensorflow:loss = 8.266764, step = 1101 (0.134 sec)\n",
      "INFO:tensorflow:global_step/sec: 769.23\n",
      "INFO:tensorflow:loss = 9.726784, step = 1201 (0.129 sec)\n",
      "INFO:tensorflow:global_step/sec: 657.895\n",
      "INFO:tensorflow:loss = 12.806259, step = 1301 (0.151 sec)\n",
      "INFO:tensorflow:global_step/sec: 584.795\n",
      "INFO:tensorflow:loss = 7.054368, step = 1401 (0.175 sec)\n",
      "INFO:tensorflow:global_step/sec: 561.798\n",
      "INFO:tensorflow:loss = 6.6224527, step = 1501 (0.176 sec)\n",
      "INFO:tensorflow:global_step/sec: 581.396\n",
      "INFO:tensorflow:loss = 3.9045315, step = 1601 (0.171 sec)\n",
      "INFO:tensorflow:global_step/sec: 751.879\n",
      "INFO:tensorflow:loss = 5.649955, step = 1701 (0.133 sec)\n",
      "INFO:tensorflow:global_step/sec: 724.638\n",
      "INFO:tensorflow:loss = 4.859914, step = 1801 (0.139 sec)\n",
      "INFO:tensorflow:global_step/sec: 641.026\n",
      "INFO:tensorflow:loss = 7.9570336, step = 1901 (0.153 sec)\n",
      "INFO:tensorflow:global_step/sec: 704.226\n",
      "INFO:tensorflow:loss = 4.841754, step = 2001 (0.144 sec)\n",
      "INFO:tensorflow:global_step/sec: 751.879\n",
      "INFO:tensorflow:loss = 7.0097547, step = 2101 (0.133 sec)\n",
      "INFO:tensorflow:global_step/sec: 684.932\n",
      "INFO:tensorflow:loss = 8.0823965, step = 2201 (0.146 sec)\n",
      "INFO:tensorflow:global_step/sec: 543.478\n",
      "INFO:tensorflow:loss = 5.6107244, step = 2301 (0.186 sec)\n",
      "INFO:tensorflow:global_step/sec: 537.634\n",
      "INFO:tensorflow:loss = 13.281709, step = 2401 (0.188 sec)\n",
      "INFO:tensorflow:global_step/sec: 373.134\n",
      "INFO:tensorflow:loss = 14.834627, step = 2501 (0.266 sec)\n",
      "INFO:tensorflow:global_step/sec: 450.45\n",
      "INFO:tensorflow:loss = 5.130001, step = 2601 (0.223 sec)\n",
      "INFO:tensorflow:global_step/sec: 444.445\n",
      "INFO:tensorflow:loss = 9.435574, step = 2701 (0.222 sec)\n",
      "INFO:tensorflow:global_step/sec: 436.681\n",
      "INFO:tensorflow:loss = 1.4045376, step = 2801 (0.231 sec)\n",
      "INFO:tensorflow:global_step/sec: 403.226\n",
      "INFO:tensorflow:loss = 7.711853, step = 2901 (0.245 sec)\n",
      "INFO:tensorflow:global_step/sec: 421.941\n",
      "INFO:tensorflow:loss = 6.3117566, step = 3001 (0.239 sec)\n",
      "INFO:tensorflow:global_step/sec: 537.634\n",
      "INFO:tensorflow:loss = 2.9975328, step = 3101 (0.185 sec)\n",
      "INFO:tensorflow:global_step/sec: 581.396\n",
      "INFO:tensorflow:loss = 6.0504866, step = 3201 (0.174 sec)\n",
      "INFO:tensorflow:global_step/sec: 625\n",
      "INFO:tensorflow:loss = 3.089339, step = 3301 (0.161 sec)\n",
      "INFO:tensorflow:global_step/sec: 574.713\n",
      "INFO:tensorflow:loss = 3.684587, step = 3401 (0.171 sec)\n",
      "INFO:tensorflow:global_step/sec: 546.448\n",
      "INFO:tensorflow:loss = 6.9830103, step = 3501 (0.190 sec)\n",
      "INFO:tensorflow:global_step/sec: 680.272\n",
      "INFO:tensorflow:loss = 4.2849407, step = 3601 (0.141 sec)\n",
      "INFO:tensorflow:global_step/sec: 704.226\n",
      "INFO:tensorflow:loss = 3.649962, step = 3701 (0.140 sec)\n",
      "INFO:tensorflow:global_step/sec: 621.118\n",
      "INFO:tensorflow:loss = 6.5003743, step = 3801 (0.165 sec)\n",
      "INFO:tensorflow:global_step/sec: 613.497\n",
      "INFO:tensorflow:loss = 2.2862856, step = 3901 (0.160 sec)\n",
      "INFO:tensorflow:Saving checkpoints for 4000 into C:\\Users\\_domine3\\AppData\\Local\\Temp\\tmpi2at4f5r\\model.ckpt.\n",
      "INFO:tensorflow:Loss for final step: 6.831412.\n"
     ]
    },
    {
     "data": {
      "text/plain": [
       "<tensorflow.python.estimator.canned.dnn.DNNClassifier at 0x14f824e0>"
      ]
     },
     "execution_count": 31,
     "metadata": {},
     "output_type": "execute_result"
    }
   ],
   "source": [
    "# train the classifier\n",
    "\n",
    "iris_feature_columns = [\n",
    "    tf.contrib.layers.real_valued_column(FEATURE_SEPAL_LENGTH, dimension=1, dtype=tf.float32),\n",
    "    tf.contrib.layers.real_valued_column(FEATURE_SEPAL_WIDTH, dimension=1, dtype=tf.float32),\n",
    "    tf.contrib.layers.real_valued_column(FEATURE_PETAL_LENGTH, dimension=1, dtype=tf.float32),\n",
    "    tf.contrib.layers.real_valued_column(FEATURE_PETAL_WIDTH, dimension=1, dtype=tf.float32)\n",
    "]\n",
    "\n",
    "\n",
    "# format data as required by the tensorflow framework\n",
    "x = {\n",
    "    FEATURE_SEPAL_LENGTH : np.array(training_df[FEATURE_SEPAL_LENGTH]),\n",
    "    FEATURE_SEPAL_WIDTH  : np.array(training_df[FEATURE_SEPAL_WIDTH]),\n",
    "    FEATURE_PETAL_LENGTH : np.array(training_df[FEATURE_PETAL_LENGTH]),\n",
    "    FEATURE_PETAL_WIDTH  : np.array(training_df[FEATURE_PETAL_WIDTH])\n",
    "}\n",
    "\n",
    "#neural network\n",
    "classifier = tf.estimator.DNNClassifier(\n",
    "       feature_columns = iris_feature_columns,\n",
    "       hidden_units = [5, 5],\n",
    "       n_classes = 3)\n",
    "\n",
    "\n",
    "# Define the training inputs\n",
    "train_input_fn = tf.estimator.inputs.numpy_input_fn(\n",
    "    x = x,\n",
    "    y = np.array(training_df[LABEL]).astype(int),\n",
    "    num_epochs = None,\n",
    "    shuffle = True)\n",
    "\n",
    "# Train model.\n",
    "classifier.train(input_fn = train_input_fn, steps = 4000)"
   ]
  },
  {
   "cell_type": "code",
   "execution_count": 32,
   "metadata": {},
   "outputs": [
    {
     "name": "stdout",
     "output_type": "stream",
     "text": [
      "INFO:tensorflow:Calling model_fn.\n",
      "INFO:tensorflow:Done calling model_fn.\n",
      "INFO:tensorflow:Starting evaluation at 2018-06-27-09:33:54\n",
      "INFO:tensorflow:Graph was finalized.\n",
      "INFO:tensorflow:Restoring parameters from C:\\Users\\_domine3\\AppData\\Local\\Temp\\tmpi2at4f5r\\model.ckpt-4000\n",
      "INFO:tensorflow:Running local_init_op.\n",
      "INFO:tensorflow:Done running local_init_op.\n",
      "INFO:tensorflow:Finished evaluation at 2018-06-27-09:33:54\n",
      "INFO:tensorflow:Saving dict for global step 4000: accuracy = 0.96666664, average_loss = 0.08968501, global_step = 4000, loss = 2.6905503\n",
      "Test Accuracy:  0.96666664\n"
     ]
    }
   ],
   "source": [
    "\n",
    "# test accuracy of the model\n",
    "# format data as required by the tensorflow framework\n",
    "x = {\n",
    "    FEATURE_SEPAL_LENGTH : np.array(test_df[FEATURE_SEPAL_LENGTH]),\n",
    "    FEATURE_SEPAL_WIDTH  : np.array(test_df[FEATURE_SEPAL_WIDTH]),\n",
    "    FEATURE_PETAL_LENGTH : np.array(test_df[FEATURE_PETAL_LENGTH]),\n",
    "    FEATURE_PETAL_WIDTH  : np.array(test_df[FEATURE_PETAL_WIDTH])\n",
    "}\n",
    "\n",
    "# Define the training inputs\n",
    "test_input_fn = tf.estimator.inputs.numpy_input_fn(\n",
    "    x = x,\n",
    "    y = np.array(test_df[LABEL]).astype(int),\n",
    "    num_epochs = 1,\n",
    "    shuffle = False)\n",
    "\n",
    "# Evaluate accuracy.\n",
    "accuracy_score = classifier.evaluate(input_fn=test_input_fn)[\"accuracy\"]\n",
    "\n",
    "print(\"Test Accuracy: \", accuracy_score)\n"
   ]
  },
  {
   "cell_type": "code",
   "execution_count": 33,
   "metadata": {},
   "outputs": [
    {
     "name": "stdout",
     "output_type": "stream",
     "text": [
      "INFO:tensorflow:Calling model_fn.\n",
      "INFO:tensorflow:Done calling model_fn.\n",
      "INFO:tensorflow:Graph was finalized.\n",
      "INFO:tensorflow:Restoring parameters from C:\\Users\\_domine3\\AppData\\Local\\Temp\\tmpi2at4f5r\\model.ckpt-4000\n",
      "INFO:tensorflow:Running local_init_op.\n",
      "INFO:tensorflow:Done running local_init_op.\n",
      "\n",
      "Prediction is \"0\" (certainity 100.0%), expected \"0\"\n",
      "\n",
      "Prediction is \"1\" (certainity 100.0%), expected \"1\"\n",
      "\n",
      "Prediction is \"2\" (certainity 99.4%), expected \"2\"\n"
     ]
    }
   ],
   "source": [
    "# We do some more manual testing\n",
    "# format data as required by the tensorflow framework\n",
    "x = {\n",
    "    FEATURE_SEPAL_LENGTH : np.array([5.0, 6.7, 7.4]),\n",
    "    FEATURE_SEPAL_WIDTH  : np.array([3.5, 3.1, 2.8]),\n",
    "    FEATURE_PETAL_LENGTH : np.array([1.3, 4.4, 6.1]),\n",
    "    FEATURE_PETAL_WIDTH  : np.array([0.3, 1.4, 1.9])\n",
    "}\n",
    "\n",
    "expected = np.array([0, 1, 2])\n",
    "\n",
    "# Define the training inputs\n",
    "predict_input_fn = tf.estimator.inputs.numpy_input_fn(\n",
    "    x = x,\n",
    "    num_epochs = 1,\n",
    "    shuffle = False)\n",
    "\n",
    "predictions = classifier.predict(input_fn = predict_input_fn)\n",
    "\n",
    "for pred_dict, expec in zip(predictions, expected):\n",
    "    class_id = pred_dict['class_ids'][0]\n",
    "    probability = pred_dict['probabilities'][class_id]\n",
    "\n",
    "    print('\\nPrediction is \"{}\" (certainity {:.1f}%), expected \"{}\"'.format(class_id, 100 * probability, expec))\n",
    "    \n"
   ]
  },
  {
   "cell_type": "code",
   "execution_count": 36,
   "metadata": {},
   "outputs": [
    {
     "name": "stdout",
     "output_type": "stream",
     "text": [
      "INFO:tensorflow:Calling model_fn.\n",
      "INFO:tensorflow:Done calling model_fn.\n",
      "INFO:tensorflow:Signatures INCLUDED in export for Regress: None\n",
      "INFO:tensorflow:Signatures INCLUDED in export for Predict: ['predict']\n",
      "INFO:tensorflow:Signatures INCLUDED in export for Classify: ['classification', 'serving_default']\n",
      "INFO:tensorflow:Restoring parameters from C:\\Users\\_domine3\\AppData\\Local\\Temp\\tmpi2at4f5r\\model.ckpt-4000\n",
      "INFO:tensorflow:Assets added to graph.\n",
      "INFO:tensorflow:No assets to write.\n",
      "INFO:tensorflow:SavedModel written to: b\"stored_model\\\\temp-b'1530093489'\\\\saved_model.pbtxt\"\n",
      "Model exported to stored_model\\1530093489\n"
     ]
    }
   ],
   "source": [
    "# export the model\n",
    "\n",
    "def serving_input_receiver_fn():\n",
    "    serialized_tf_example = tf.placeholder(dtype = tf.string, shape = [None], name = 'input_tensors')\n",
    "    receiver_tensors      = {'predictor_inputs' : serialized_tf_example}\n",
    "    feature_spec          = {FEATURE_SEPAL_LENGTH : tf.FixedLenFeature([25], tf.float32),\n",
    "                             FEATURE_SEPAL_WIDTH  : tf.FixedLenFeature([25], tf.float32),\n",
    "                             FEATURE_PETAL_LENGTH : tf.FixedLenFeature([25], tf.float32),\n",
    "                             FEATURE_PETAL_WIDTH  : tf.FixedLenFeature([25], tf.float32)}\n",
    "    features              = tf.parse_example(serialized_tf_example, feature_spec)\n",
    "    return tf.estimator.export.ServingInputReceiver(features, receiver_tensors)\n",
    "\n",
    "\n",
    "model_dir = classifier.export_savedmodel(export_dir_base = \"stored_model\", \n",
    "                             serving_input_receiver_fn = serving_input_receiver_fn,\n",
    "                             as_text = True)\n",
    "print('Model exported to '+ model_dir.decode())"
   ]
  },
  {
   "cell_type": "code",
   "execution_count": 35,
   "metadata": {},
   "outputs": [
    {
     "name": "stdout",
     "output_type": "stream",
     "text": [
      "INFO:tensorflow:Restoring parameters from b'./stored_model/1530092040\\\\variables\\\\variables'\n",
      "Model ready for visualization. Execute: tensorboard --logdir=./visualization/tensorboard/1530092040\n"
     ]
    }
   ],
   "source": [
    "# Export the saved model so it can be visualized on the tensorboard \n",
    "# Code inspired from https://github.com/tensorflow/tensorflow/issues/8854\n",
    "\n",
    "# Work in progress: The model is shown in the tensorboard, but it is not showing the right data.\n",
    "\n",
    "from tensorflow.python.summary import summary\n",
    "\n",
    "log_dir = './visualization/tensorboard/1530093489' # + model_dir.decode().replace('stored_model\\\\','')\n",
    "model_dir= './stored_model/1530093489'\n",
    "with tf.Session(graph = tf.Graph()) as sess:\n",
    "    tf.saved_model.loader.load(\n",
    "        sess,\n",
    "        [tf.saved_model.tag_constants.SERVING],\n",
    "        model_dir)\n",
    "\n",
    "    pb_visual_writer = summary.FileWriter(log_dir)\n",
    "    pb_visual_writer.add_graph(sess.graph)\n",
    "    print(\"Model ready for visualization. Execute: \"\n",
    "          \"tensorboard --logdir={}\".format(log_dir))"
   ]
  },
  {
   "cell_type": "code",
   "execution_count": null,
   "metadata": {},
   "outputs": [],
   "source": []
  }
 ],
 "metadata": {
  "kernelspec": {
   "display_name": "Python 3",
   "language": "python",
   "name": "python3"
  },
  "language_info": {
   "codemirror_mode": {
    "name": "ipython",
    "version": 3
   },
   "file_extension": ".py",
   "mimetype": "text/x-python",
   "name": "python",
   "nbconvert_exporter": "python",
   "pygments_lexer": "ipython3",
   "version": "3.5.5"
  }
 },
 "nbformat": 4,
 "nbformat_minor": 2
}
